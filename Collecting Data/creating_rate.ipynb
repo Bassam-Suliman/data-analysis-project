{
 "cells": [
  {
   "cell_type": "code",
   "execution_count": 61,
   "metadata": {},
   "outputs": [],
   "source": [
    "import requests\n",
    "import pandas as pd\n",
    "import numpy as np\n",
    "import matplotlib.pyplot as plt\n",
    "import seaborn as sns\n",
    "import time\n",
    "import datetime"
   ]
  },
  {
   "cell_type": "code",
   "execution_count": null,
   "metadata": {},
   "outputs": [],
   "source": [
    "Left = 1600\n",
    "Right = 1899\n",
    "contestID = 2023"
   ]
  },
  {
   "cell_type": "code",
   "execution_count": null,
   "metadata": {},
   "outputs": [],
   "source": [
    "page = requests.get(f'https://codeforces.com/api/contest.standings?contestId={contestID}&from=1&count=50000&showUnofficial=false')\n",
    "Start = page.json()['result']['contest']['startTimeSeconds']"
   ]
  },
  {
   "cell_type": "code",
   "execution_count": 64,
   "metadata": {},
   "outputs": [
    {
     "data": {
      "text/html": [
       "<div>\n",
       "<style scoped>\n",
       "    .dataframe tbody tr th:only-of-type {\n",
       "        vertical-align: middle;\n",
       "    }\n",
       "\n",
       "    .dataframe tbody tr th {\n",
       "        vertical-align: top;\n",
       "    }\n",
       "\n",
       "    .dataframe thead th {\n",
       "        text-align: right;\n",
       "    }\n",
       "</style>\n",
       "<table border=\"1\" class=\"dataframe\">\n",
       "  <thead>\n",
       "    <tr style=\"text-align: right;\">\n",
       "      <th></th>\n",
       "      <th>rank</th>\n",
       "      <th>oldRating</th>\n",
       "      <th>newRating</th>\n",
       "    </tr>\n",
       "    <tr>\n",
       "      <th>handle</th>\n",
       "      <th></th>\n",
       "      <th></th>\n",
       "      <th></th>\n",
       "    </tr>\n",
       "  </thead>\n",
       "  <tbody>\n",
       "    <tr>\n",
       "      <th>jiangly</th>\n",
       "      <td>1</td>\n",
       "      <td>3839</td>\n",
       "      <td>3904</td>\n",
       "    </tr>\n",
       "    <tr>\n",
       "      <th>maroonrk</th>\n",
       "      <td>2</td>\n",
       "      <td>3223</td>\n",
       "      <td>3350</td>\n",
       "    </tr>\n",
       "    <tr>\n",
       "      <th>potato167</th>\n",
       "      <td>3</td>\n",
       "      <td>2921</td>\n",
       "      <td>3091</td>\n",
       "    </tr>\n",
       "    <tr>\n",
       "      <th>jeroenodb</th>\n",
       "      <td>4</td>\n",
       "      <td>2820</td>\n",
       "      <td>2999</td>\n",
       "    </tr>\n",
       "    <tr>\n",
       "      <th>kotatsugame</th>\n",
       "      <td>5</td>\n",
       "      <td>2917</td>\n",
       "      <td>3055</td>\n",
       "    </tr>\n",
       "  </tbody>\n",
       "</table>\n",
       "</div>"
      ],
      "text/plain": [
       "             rank  oldRating  newRating\n",
       "handle                                 \n",
       "jiangly         1       3839       3904\n",
       "maroonrk        2       3223       3350\n",
       "potato167       3       2921       3091\n",
       "jeroenodb       4       2820       2999\n",
       "kotatsugame     5       2917       3055"
      ]
     },
     "execution_count": 64,
     "metadata": {},
     "output_type": "execute_result"
    }
   ],
   "source": [
    "changes = requests.get(f'https://codeforces.com/api/contest.ratingChanges?contestId={contestID}')\n",
    "changes = pd.DataFrame(changes.json()['result'],columns=['contestId','contestName','handle','rank','ratingUpdateTimeSeconds','oldRating','newRating'])\n",
    "changes.drop(columns=['contestId','contestName','ratingUpdateTimeSeconds'],inplace=True)\n",
    "changes.set_index('handle',inplace=True)\n",
    "changes.head()"
   ]
  },
  {
   "cell_type": "code",
   "execution_count": 65,
   "metadata": {},
   "outputs": [
    {
     "data": {
      "text/plain": [
       "{'A': [], 'B': [], 'C': [], 'D': [], 'E': [], 'F': []}"
      ]
     },
     "execution_count": 65,
     "metadata": {},
     "output_type": "execute_result"
    }
   ],
   "source": [
    "### Preparing the map for each problem\n",
    "mp = {}\n",
    "indices = []\n",
    "for problem in page.json()['result']['problems']:\n",
    "    mp[problem['index']] = []\n",
    "    indices.append(problem['index'])\n",
    "mp"
   ]
  },
  {
   "cell_type": "code",
   "execution_count": 81,
   "metadata": {},
   "outputs": [],
   "source": [
    "for row in page.json()['result']['rows']:\n",
    "    try :\n",
    "        handle = row['party']['members'][0]['handle']\n",
    "        cur_rate = changes.loc[handle]['oldRating']\n",
    "        \n",
    "        if cur_rate > Right or cur_rate < Left:\n",
    "            continue\n",
    "\n",
    "        probs = pd.DataFrame(data=row['problemResults'],columns=['points','rejectedAttemptCount','type','bestSubmissionTimeSeconds'])\n",
    "        probs = pd.concat([probs,pd.Series(indices,name='index')],axis=1)\n",
    "        probs.set_index('index',inplace=True)\n",
    "        probs = probs[probs.points > 0]\n",
    "        probs.drop(columns=['points','rejectedAttemptCount','type'],inplace=True)\n",
    "        last = 0\n",
    "        for ind in probs.sort_values(by='bestSubmissionTimeSeconds').index:\n",
    "            cur = probs.loc[ind]['bestSubmissionTimeSeconds']\n",
    "            mp[ind].append((cur-last)/60)\n",
    "            last = cur\n",
    "        ###print(handle,cur_rate)\n",
    "    except:\n",
    "        pass"
   ]
  },
  {
   "cell_type": "code",
   "execution_count": 83,
   "metadata": {},
   "outputs": [
    {
     "name": "stdout",
     "output_type": "stream",
     "text": [
      "A\n",
      "count    52\n",
      "mean      8\n",
      "std       4\n",
      "min       1\n",
      "25%       4\n",
      "50%       7\n",
      "75%      10\n",
      "max      17\n",
      "dtype: int64\n",
      "\n",
      "B\n",
      "count    54\n",
      "mean     10\n",
      "std       3\n",
      "min       1\n",
      "25%       8\n",
      "50%      10\n",
      "75%      12\n",
      "max      19\n",
      "dtype: int64\n",
      "\n",
      "C\n",
      "count    54\n",
      "mean     34\n",
      "std       9\n",
      "min      17\n",
      "25%      26\n",
      "50%      33\n",
      "75%      41\n",
      "max      56\n",
      "dtype: int64\n",
      "\n",
      "D\n",
      "count    20\n",
      "mean     46\n",
      "std      11\n",
      "min      24\n",
      "25%      41\n",
      "50%      44\n",
      "75%      54\n",
      "max      67\n",
      "dtype: int64\n",
      "\n",
      "E\n",
      "count     4\n",
      "mean     50\n",
      "std      32\n",
      "min      22\n",
      "25%      22\n",
      "50%      50\n",
      "75%      79\n",
      "max      79\n",
      "dtype: int64\n",
      "\n",
      "F\n",
      "No one solved this problem!\n",
      "\n"
     ]
    }
   ],
   "source": [
    "for key in mp.keys():\n",
    "    print(key)\n",
    "    try:\n",
    "        print(pd.Series(mp[key]).describe().astype(dtype='int'))\n",
    "    except:\n",
    "        print('No one solved this problem!')\n",
    "    print()"
   ]
  }
 ],
 "metadata": {
  "kernelspec": {
   "display_name": "Python 3",
   "language": "python",
   "name": "python3"
  },
  "language_info": {
   "codemirror_mode": {
    "name": "ipython",
    "version": 3
   },
   "file_extension": ".py",
   "mimetype": "text/x-python",
   "name": "python",
   "nbconvert_exporter": "python",
   "pygments_lexer": "ipython3",
   "version": "3.12.5"
  }
 },
 "nbformat": 4,
 "nbformat_minor": 2
}
