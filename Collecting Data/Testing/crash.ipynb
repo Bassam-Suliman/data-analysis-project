{
 "cells": [
  {
   "cell_type": "code",
   "execution_count": 59,
   "metadata": {},
   "outputs": [],
   "source": [
    "from bs4 import BeautifulSoup\n",
    "import requests"
   ]
  },
  {
   "cell_type": "code",
   "execution_count": 53,
   "metadata": {},
   "outputs": [],
   "source": [
    "#user-orange"
   ]
  },
  {
   "cell_type": "code",
   "execution_count": 60,
   "metadata": {},
   "outputs": [],
   "source": [
    "html_file = requests.get('https://clist.by/problems/?resource=1')"
   ]
  },
  {
   "cell_type": "code",
   "execution_count": 63,
   "metadata": {},
   "outputs": [
    {
     "data": {
      "text/plain": [
       "<Response [200]>"
      ]
     },
     "execution_count": 63,
     "metadata": {},
     "output_type": "execute_result"
    }
   ],
   "source": [
    "html_file"
   ]
  },
  {
   "cell_type": "code",
   "execution_count": 66,
   "metadata": {},
   "outputs": [],
   "source": [
    "content = html_file.text\n",
    "soup = BeautifulSoup(content, 'lxml')"
   ]
  },
  {
   "cell_type": "code",
   "execution_count": 71,
   "metadata": {},
   "outputs": [
    {
     "name": "stdout",
     "output_type": "stream",
     "text": [
      "LibraryofMagic\n",
      "Balanced\n",
      "Peanuts\n",
      "BestSubsequence\n",
      "BermartIceCream\n",
      "Monster\n",
      "TreeOperations\n",
      "GoLearn!(EasyVersion)\n",
      "GoLearn!(HardVersion)\n",
      "PeakProductivityForces\n",
      "TheEndspeaker(HardVersion)\n",
      "BitGame(EasyVersion)\n",
      "BitGame(HardVersion)\n",
      "SakurakoandChefir\n",
      "C+K+S\n",
      "ManyGames\n",
      "TreeofLife\n",
      "HillsandPits\n"
     ]
    }
   ],
   "source": [
    "problem_list = soup.find_all('tr', class_='show-hidden-activity-on-hover show-hidden-note-on-hover')\n",
    "for problem in problem_list:\n",
    "    rating = int(problem.find('td', class_='problem-rating-column').span.text)\n",
    "    if rating < 2000:\n",
    "        continue\n",
    "    name = problem.find_all('a')[1].text\n",
    "    name = ''.join(name.split())\n",
    "    print(name)"
   ]
  }
 ],
 "metadata": {
  "kernelspec": {
   "display_name": "Python 3",
   "language": "python",
   "name": "python3"
  },
  "language_info": {
   "codemirror_mode": {
    "name": "ipython",
    "version": 3
   },
   "file_extension": ".py",
   "mimetype": "text/x-python",
   "name": "python",
   "nbconvert_exporter": "python",
   "pygments_lexer": "ipython3",
   "version": "3.12.5"
  }
 },
 "nbformat": 4,
 "nbformat_minor": 2
}
